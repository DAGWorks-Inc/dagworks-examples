{
 "cells": [
  {
   "cell_type": "markdown",
   "id": "22f1ea4f-c234-45ae-80dd-ad61689fa488",
   "metadata": {
    "scrolled": true
   },
   "source": [
    "## Imports"
   ]
  },
  {
   "cell_type": "code",
   "execution_count": null,
   "id": "5c335bef-8886-4fbc-8f56-e75f33605fda",
   "metadata": {
    "scrolled": true
   },
   "outputs": [],
   "source": [
    "# Import DAGWorks\n",
    "from dagworks import driver\n",
    "\n",
    "# Import modules for Hamilton\n",
    "from components import data_loader\n",
    "from components import ftrs_autoregression\n",
    "from components import ftrs_calendar\n",
    "from components import ftrs_common_prep\n",
    "\n",
    "# Some other imports\n",
    "import os\n",
    "from typing import Union"
   ]
  },
  {
   "cell_type": "markdown",
   "id": "df8eb888-9ac6-4341-b0b4-72455d3b91ed",
   "metadata": {},
   "source": [
    "# Setting up config/keys"
   ]
  },
  {
   "cell_type": "code",
   "execution_count": null,
   "id": "839712a0-dd68-4cca-ac39-be3aec00f4b1",
   "metadata": {},
   "outputs": [],
   "source": [
    "def load_api_key():\n",
    "    data = {}\n",
    "    with open(\"../.dagworks\") as f:\n",
    "        for line in f.read().split(\"\\n\"):\n",
    "            linesplit = line.split(\"=\")\n",
    "            if len(linesplit) != 2:\n",
    "                continue\n",
    "            key, value = linesplit\n",
    "            data[key]=value\n",
    "    if \"API_KEY\" in data:\n",
    "        return data[\"API_KEY\"]\n",
    "    else:\n",
    "        raise ValueError(f\"Create a file in the base of the repo with the line API_KEY=... If you don't have one (or forgot), \")\n",
    "config = {\"schema_version\" : \"new\"}\n",
    "PROJECT_ID = 19306\n",
    "USERNAME = \"elijah@dagworks.io\"\n",
    "api_key = load_api_key()"
   ]
  },
  {
   "cell_type": "markdown",
   "id": "e4316d08-903c-49dc-bacf-d722defaedd2",
   "metadata": {},
   "source": [
    "# Instantiating the driver"
   ]
  },
  {
   "cell_type": "code",
   "execution_count": null,
   "id": "d94bb294-c934-4f02-993c-cd3b91922679",
   "metadata": {},
   "outputs": [],
   "source": [
    "from hamilton import base\n",
    "dr = driver.Driver(\n",
    "        {},\n",
    "        data_loader,\n",
    "        ftrs_autoregression,\n",
    "        ftrs_calendar,\n",
    "        ftrs_common_prep,\n",
    "        username=\"elijah@dagworks.io\",\n",
    "        api_key=api_key,\n",
    "        project_id=PROJECT_ID,\n",
    "        dag_name=\"time_series_processing\",\n",
    "        tags={\"template\": \"time_series_processing\", \"iteration\" : \"1\"},\n",
    "        adapter=base.DefaultAdapter()\n",
    "    )\n",
    "dr.display_all_functions(graphviz_kwargs=dict(graph_attr={'size': '15,10'}))"
   ]
  },
  {
   "cell_type": "markdown",
   "id": "cef7dc89-c7df-4825-bf1c-5d8ff26828d2",
   "metadata": {},
   "source": [
    "# Executing the DAG"
   ]
  },
  {
   "cell_type": "code",
   "execution_count": null,
   "id": "d3b2dae1-e8a9-498b-85f1-ce66e13f426d",
   "metadata": {},
   "outputs": [],
   "source": [
    "all_possible_outputs = dr.list_available_variables()\n",
    "desired_features = [\n",
    "    o.name for o in all_possible_outputs\n",
    "    if o.tags.get(\"stage\") == \"production\"]\n",
    "\n",
    "inputs = {\"data_path\": \"data/train_sample.csv\"}\n",
    "result = dr.execute(desired_features, inputs=inputs)"
   ]
  }
 ],
 "metadata": {
  "kernelspec": {
   "display_name": "Python 3 (ipykernel)",
   "language": "python",
   "name": "python3"
  },
  "language_info": {
   "codemirror_mode": {
    "name": "ipython",
    "version": 3
   },
   "file_extension": ".py",
   "mimetype": "text/x-python",
   "name": "python",
   "nbconvert_exporter": "python",
   "pygments_lexer": "ipython3",
   "version": "3.9.10"
  }
 },
 "nbformat": 4,
 "nbformat_minor": 5
}
